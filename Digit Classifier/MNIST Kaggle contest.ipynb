{
 "cells": [
  {
   "cell_type": "code",
   "execution_count": 1,
   "metadata": {
    "collapsed": false
   },
   "outputs": [
    {
     "name": "stderr",
     "output_type": "stream",
     "text": [
      "Using Theano backend.\n"
     ]
    },
    {
     "ename": "NameError",
     "evalue": "name 'numpy' is not defined",
     "output_type": "error",
     "traceback": [
      "\u001b[0;31m---------------------------------------------------------------------------\u001b[0m",
      "\u001b[0;31mNameError\u001b[0m                                 Traceback (most recent call last)",
      "\u001b[0;32m<ipython-input-1-5b338c40f761>\u001b[0m in \u001b[0;36m<module>\u001b[0;34m()\u001b[0m\n\u001b[1;32m      9\u001b[0m \u001b[0;34m\u001b[0m\u001b[0m\n\u001b[1;32m     10\u001b[0m \u001b[0mseed\u001b[0m \u001b[0;34m=\u001b[0m \u001b[0;36m7\u001b[0m\u001b[0;34m\u001b[0m\u001b[0m\n\u001b[0;32m---> 11\u001b[0;31m \u001b[0mnumpy\u001b[0m\u001b[0;34m.\u001b[0m\u001b[0mrandom\u001b[0m\u001b[0;34m.\u001b[0m\u001b[0mseed\u001b[0m\u001b[0;34m(\u001b[0m\u001b[0mseed\u001b[0m\u001b[0;34m)\u001b[0m\u001b[0;34m\u001b[0m\u001b[0m\n\u001b[0m",
      "\u001b[0;31mNameError\u001b[0m: name 'numpy' is not defined"
     ]
    }
   ],
   "source": [
    "import numpy as np\n",
    "import pandas as pd\n",
    "\n",
    "from keras.models import Sequential\n",
    "from keras.layers import Dense,Dropout,Flatten\n",
    "from keras.layers.convolutional import Convolution2D\n",
    "from keras.layers.convolutional import MaxPooling2D\n",
    "from keras.utils import np_utils\n",
    "\n",
    "seed = 7\n",
    "numpy.random.seed(seed)"
   ]
  },
  {
   "cell_type": "code",
   "execution_count": 2,
   "metadata": {
    "collapsed": false
   },
   "outputs": [],
   "source": [
    "train = pd.read_csv(\"./train.csv\")\n",
    "test = pd.read_csv(\"./test.csv\")\n",
    "\n",
    "trainX = train.drop(['label'],axis=1).values.astype('float32')\n",
    "trainY = train['label'].values\n",
    "\n",
    "testX = test.values.astype('float32')\n",
    "\n",
    "trainX = trainX.reshape(trainX.shape[0],1,28,28).astype('float32')\n",
    "testX = testX.reshape(testX.shape[0],1,28,28).astype('float32')\n",
    "\n",
    "trainX = trainX/255\n",
    "testX = testX/255\n",
    "\n",
    "trainY = np_utils.to_categorical(trainY)"
   ]
  },
  {
   "cell_type": "code",
   "execution_count": 3,
   "metadata": {
    "collapsed": false
   },
   "outputs": [
    {
     "data": {
      "text/plain": [
       "<matplotlib.image.AxesImage at 0x117b4a550>"
      ]
     },
     "execution_count": 3,
     "metadata": {},
     "output_type": "execute_result"
    },
    {
     "data": {
      "image/png": "[encoded data removed]",
      "text/plain": [
       "<matplotlib.figure.Figure at 0x1118bb4d0>"
      ]
     },
     "metadata": {},
     "output_type": "display_data"
    }
   ],
   "source": [
    "import matplotlib.pyplot as plt\n",
    "%matplotlib inline\n",
    "\n",
    "plt.imshow(testX[2,0,:,:],cmap='gray_r')"
   ]
  },
  {
   "cell_type": "code",
   "execution_count": 17,
   "metadata": {
    "collapsed": false
   },
   "outputs": [],
   "source": [
    "def build_model():\n",
    "    model = Sequential()\n",
    "    model.add(Convolution2D(30,5,5,border_mode='valid',input_shape=(1,28,28),activation='relu'))\n",
    "    model.add(MaxPooling2D(pool_size=(2,2)))\n",
    "    model.add(Convolution2D(15,3,3,activation='relu'))\n",
    "    model.add(MaxPooling2D(pool_size=(2,2)))\n",
    "    model.add(Dropout(0.2))\n",
    "    model.add(Flatten())\n",
    "    model.add(Dense(100,activation='relu'))\n",
    "    model.add(Dense(50,activation='relu'))\n",
    "    model.add(Dense(trainY.shape[1],activation='softmax'))\n",
    "    model.compile(loss='categorical_crossentropy',optimizer='adam',metrics=['accuracy'])\n",
    "    return model"
   ]
  },
  {
   "cell_type": "code",
   "execution_count": 18,
   "metadata": {
    "collapsed": false
   },
   "outputs": [
    {
     "name": "stdout",
     "output_type": "stream",
     "text": [
      "Train on 33600 samples, validate on 8400 samples\n",
      "Epoch 1/30\n",
      "22s - loss: 0.5089 - acc: 0.8393 - val_loss: 0.1258 - val_acc: 0.9642\n",
      "Epoch 2/30\n",
      "23s - loss: 0.1271 - acc: 0.9608 - val_loss: 0.0685 - val_acc: 0.9783\n",
      "Epoch 3/30\n",
      "24s - loss: 0.0861 - acc: 0.9740 - val_loss: 0.0591 - val_acc: 0.9793\n",
      "Epoch 4/30\n",
      "23s - loss: 0.0705 - acc: 0.9779 - val_loss: 0.0494 - val_acc: 0.9837\n",
      "Epoch 5/30\n",
      "23s - loss: 0.0611 - acc: 0.9808 - val_loss: 0.0470 - val_acc: 0.9858\n",
      "Epoch 6/30\n",
      "23s - loss: 0.0493 - acc: 0.9843 - val_loss: 0.0427 - val_acc: 0.9852\n",
      "Epoch 7/30\n",
      "23s - loss: 0.0473 - acc: 0.9845 - val_loss: 0.0391 - val_acc: 0.9870\n",
      "Epoch 8/30\n",
      "23s - loss: 0.0425 - acc: 0.9865 - val_loss: 0.0352 - val_acc: 0.9890\n",
      "Epoch 9/30\n",
      "23s - loss: 0.0411 - acc: 0.9865 - val_loss: 0.0358 - val_acc: 0.9889\n",
      "Epoch 10/30\n",
      "22s - loss: 0.0367 - acc: 0.9877 - val_loss: 0.0355 - val_acc: 0.9880\n",
      "Epoch 11/30\n",
      "23s - loss: 0.0328 - acc: 0.9896 - val_loss: 0.0397 - val_acc: 0.9860\n",
      "Epoch 12/30\n",
      "23s - loss: 0.0307 - acc: 0.9896 - val_loss: 0.0318 - val_acc: 0.9895\n",
      "Epoch 13/30\n",
      "23s - loss: 0.0267 - acc: 0.9915 - val_loss: 0.0334 - val_acc: 0.9905\n",
      "Epoch 14/30\n",
      "23s - loss: 0.0257 - acc: 0.9911 - val_loss: 0.0453 - val_acc: 0.9870\n",
      "Epoch 15/30\n",
      "24s - loss: 0.0251 - acc: 0.9913 - val_loss: 0.0371 - val_acc: 0.9896\n",
      "Epoch 16/30\n",
      "23s - loss: 0.0246 - acc: 0.9914 - val_loss: 0.0404 - val_acc: 0.9889\n",
      "Epoch 17/30\n",
      "23s - loss: 0.0228 - acc: 0.9921 - val_loss: 0.0465 - val_acc: 0.9881\n",
      "Epoch 18/30\n",
      "22s - loss: 0.0217 - acc: 0.9925 - val_loss: 0.0375 - val_acc: 0.9901\n",
      "Epoch 19/30\n",
      "23s - loss: 0.0207 - acc: 0.9932 - val_loss: 0.0330 - val_acc: 0.9914\n",
      "Epoch 20/30\n",
      "23s - loss: 0.0198 - acc: 0.9934 - val_loss: 0.0386 - val_acc: 0.9898\n",
      "Epoch 21/30\n",
      "23s - loss: 0.0191 - acc: 0.9932 - val_loss: 0.0403 - val_acc: 0.9894\n",
      "Epoch 22/30\n",
      "23s - loss: 0.0165 - acc: 0.9944 - val_loss: 0.0364 - val_acc: 0.9907\n",
      "Epoch 23/30\n",
      "22s - loss: 0.0142 - acc: 0.9951 - val_loss: 0.0378 - val_acc: 0.9902\n",
      "Epoch 24/30\n",
      "23s - loss: 0.0173 - acc: 0.9942 - val_loss: 0.0375 - val_acc: 0.9900\n",
      "Epoch 25/30\n",
      "23s - loss: 0.0152 - acc: 0.9945 - val_loss: 0.0431 - val_acc: 0.9888\n",
      "Epoch 26/30\n",
      "22s - loss: 0.0160 - acc: 0.9944 - val_loss: 0.0398 - val_acc: 0.9901\n",
      "Epoch 27/30\n",
      "24s - loss: 0.0162 - acc: 0.9946 - val_loss: 0.0410 - val_acc: 0.9896\n",
      "Epoch 28/30\n",
      "23s - loss: 0.0146 - acc: 0.9951 - val_loss: 0.0382 - val_acc: 0.9905\n",
      "Epoch 29/30\n",
      "23s - loss: 0.0144 - acc: 0.9951 - val_loss: 0.0391 - val_acc: 0.9906\n",
      "Epoch 30/30\n",
      "22s - loss: 0.0122 - acc: 0.9963 - val_loss: 0.0335 - val_acc: 0.9911\n"
     ]
    },
    {
     "data": {
      "text/plain": [
       "<keras.callbacks.History at 0x13f0b7a50>"
      ]
     },
     "execution_count": 18,
     "metadata": {},
     "output_type": "execute_result"
    }
   ],
   "source": [
    "model = build_model()\n",
    "model.fit(trainX,trainY,batch_size=128,verbose=2,nb_epoch=30,validation_split=0.2)"
   ]
  },
  {
   "cell_type": "code",
   "execution_count": 14,
   "metadata": {
    "collapsed": true
   },
   "outputs": [],
   "source": [
    "yPred = model.predict_classes(testX,verbose=2,batch_size=32)"
   ]
  },
  {
   "cell_type": "code",
   "execution_count": 15,
   "metadata": {
    "collapsed": false
   },
   "outputs": [
    {
     "name": "stdout",
     "output_type": "stream",
     "text": [
      "[2 0 9 ..., 3 9 2]\n"
     ]
    }
   ],
   "source": [
    "print yPred"
   ]
  },
  {
   "cell_type": "code",
   "execution_count": 16,
   "metadata": {
    "collapsed": false
   },
   "outputs": [],
   "source": [
    "np.savetxt(\"output2.csv\",np.c_[range(1,len(yPred)+1),yPred],delimiter=',',comments='',header='ImageId,Label',fmt='%d')"
   ]
  },
  {
   "cell_type": "code",
   "execution_count": null,
   "metadata": {
    "collapsed": true
   },
   "outputs": [],
   "source": []
  }
 ],
 "metadata": {
  "kernelspec": {
   "display_name": "Python [conda env:tensorflow]",
   "language": "python",
   "name": "conda-env-tensorflow-py"
  },
  "language_info": {
   "codemirror_mode": {
    "name": "ipython",
    "version": 2
   },
   "file_extension": ".py",
   "mimetype": "text/x-python",
   "name": "python",
   "nbconvert_exporter": "python",
   "pygments_lexer": "ipython2",
   "version": "2.7.13"
  }
 },
 "nbformat": 4,
 "nbformat_minor": 2
}
