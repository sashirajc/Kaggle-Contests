{
 "cells": [
  {
   "cell_type": "code",
   "execution_count": 35,
   "metadata": {
    "collapsed": false
   },
   "outputs": [],
   "source": [
    "import numpy as np\n",
    "import pandas as pd\n",
    "\n",
    "from keras.models import Sequential\n",
    "from keras.layers import Dense,Dropout,Flatten\n",
    "from keras.layers.convolutional import Convolution2D\n",
    "from keras.layers.convolutional import MaxPooling2D\n",
    "from keras.utils import np_utils\n",
    "\n",
    "seed = 7\n",
    "numpy.random.seed(seed)"
   ]
  },
  {
   "cell_type": "code",
   "execution_count": 11,
   "metadata": {
    "collapsed": false
   },
   "outputs": [],
   "source": [
    "train = pd.read_csv(\"./train.csv\")\n",
    "test = pd.read_csv(\"./test.csv\")\n",
    "\n",
    "trainX = train.drop(['label'],axis=1).values.astype('float32')\n",
    "trainY = train['label'].values\n",
    "\n",
    "testX = test.values.astype('float32')\n",
    "\n",
    "trainX = trainX.reshape(trainX.shape[0],1,28,28).astype('float32')\n",
    "testX = testX.reshape(testX.shape[0],1,28,28).astype('float32')\n",
    "\n",
    "trainX = trainX/255\n",
    "testX = testX/255\n",
    "\n",
    "trainY = np_utils.to_categorical(trainY)"
   ]
  },
  {
   "cell_type": "code",
   "execution_count": 33,
   "metadata": {
    "collapsed": false
   },
   "outputs": [
    {
     "data": {
      "text/plain": [
       "<matplotlib.image.AxesImage at 0x11dc6f9d0>"
      ]
     },
     "execution_count": 33,
     "metadata": {},
     "output_type": "execute_result"
    },
    {
     "data": {
      "image/png": "[encoded data removed]",
      "text/plain": [
       "<matplotlib.figure.Figure at 0x11db544d0>"
      ]
     },
     "metadata": {},
     "output_type": "display_data"
    }
   ],
   "source": [
    "import matplotlib.pyplot as plt\n",
    "%matplotlib inline\n",
    "\n",
    "plt.imshow(testX[2,0,:,:],cmap='gray_r')"
   ]
  },
  {
   "cell_type": "code",
   "execution_count": 25,
   "metadata": {
    "collapsed": false
   },
   "outputs": [],
   "source": [
    "def build_model():\n",
    "    model = Sequential()\n",
    "    model.add(Convolution2D(30,5,5,border_mode='valid',input_shape=(1,28,28),activation='relu'))\n",
    "    model.add(MaxPooling2D(pool_size=(2,2)))\n",
    "    model.add(Convolution2D(15,3,3,activation='relu'))\n",
    "    model.add(MaxPooling2D(pool_size=(2,2)))\n",
    "    model.add(Dropout(0.2))\n",
    "    model.add(Flatten())\n",
    "    model.add(Dense(128,activation='relu'))\n",
    "    model.add(Dense(50,activation='relu'))\n",
    "    model.add(Dense(trainY.shape[1],activation='softmax'))\n",
    "    model.compile(loss='categorical_crossentropy',optimizer='adam',metrics=['accuracy'])\n",
    "    return model"
   ]
  },
  {
   "cell_type": "code",
   "execution_count": 27,
   "metadata": {
    "collapsed": false
   },
   "outputs": [
    {
     "name": "stdout",
     "output_type": "stream",
     "text": [
      "Train on 33600 samples, validate on 8400 samples\n",
      "Epoch 1/10\n",
      "23s - loss: 0.4635 - acc: 0.8537 - val_loss: 0.1101 - val_acc: 0.9669\n",
      "Epoch 2/10\n",
      "25s - loss: 0.1149 - acc: 0.9635 - val_loss: 0.0658 - val_acc: 0.9786\n",
      "Epoch 3/10\n",
      "24s - loss: 0.0845 - acc: 0.9742 - val_loss: 0.0612 - val_acc: 0.9806\n",
      "Epoch 4/10\n",
      "23s - loss: 0.0675 - acc: 0.9798 - val_loss: 0.0484 - val_acc: 0.9848\n",
      "Epoch 5/10\n",
      "23s - loss: 0.0576 - acc: 0.9817 - val_loss: 0.0456 - val_acc: 0.9862\n",
      "Epoch 6/10\n",
      "24s - loss: 0.0495 - acc: 0.9835 - val_loss: 0.0451 - val_acc: 0.9858\n",
      "Epoch 7/10\n",
      "24s - loss: 0.0428 - acc: 0.9857 - val_loss: 0.0371 - val_acc: 0.9879\n",
      "Epoch 8/10\n",
      "23s - loss: 0.0382 - acc: 0.9874 - val_loss: 0.0428 - val_acc: 0.9873\n",
      "Epoch 9/10\n",
      "23s - loss: 0.0355 - acc: 0.9881 - val_loss: 0.0386 - val_acc: 0.9876\n",
      "Epoch 10/10\n",
      "23s - loss: 0.0328 - acc: 0.9891 - val_loss: 0.0425 - val_acc: 0.9873\n"
     ]
    },
    {
     "data": {
      "text/plain": [
       "<keras.callbacks.History at 0x11a7e6090>"
      ]
     },
     "execution_count": 27,
     "metadata": {},
     "output_type": "execute_result"
    }
   ],
   "source": [
    "model = build_model()\n",
    "model.fit(trainX,trainY,batch_size=128,verbose=2,nb_epoch=10,validation_split=0.2)"
   ]
  },
  {
   "cell_type": "code",
   "execution_count": 28,
   "metadata": {
    "collapsed": true
   },
   "outputs": [],
   "source": [
    "yPred = model.predict_classes(testX,verbose=2,batch_size=32)"
   ]
  },
  {
   "cell_type": "code",
   "execution_count": 29,
   "metadata": {
    "collapsed": false
   },
   "outputs": [
    {
     "name": "stdout",
     "output_type": "stream",
     "text": [
      "[2 0 9 ..., 3 9 2]\n"
     ]
    }
   ],
   "source": [
    "print yPred"
   ]
  },
  {
   "cell_type": "code",
   "execution_count": 38,
   "metadata": {
    "collapsed": false
   },
   "outputs": [],
   "source": [
    "np.savetxt(\"output.csv\",np.c_[range(1,len(yPred)+1),yPred],delimiter=',',comments='',header='ImageId,Label',fmt='%d')"
   ]
  },
  {
   "cell_type": "code",
   "execution_count": null,
   "metadata": {
    "collapsed": true
   },
   "outputs": [],
   "source": []
  }
 ],
 "metadata": {
  "kernelspec": {
   "display_name": "Python [conda env:tensorflow]",
   "language": "python",
   "name": "conda-env-tensorflow-py"
  },
  "language_info": {
   "codemirror_mode": {
    "name": "ipython",
    "version": 2
   },
   "file_extension": ".py",
   "mimetype": "text/x-python",
   "name": "python",
   "nbconvert_exporter": "python",
   "pygments_lexer": "ipython2",
   "version": "2.7.13"
  }
 },
 "nbformat": 4,
 "nbformat_minor": 2
}
