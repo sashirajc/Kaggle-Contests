{
 "cells": [
  {
   "cell_type": "markdown",
   "metadata": {},
   "source": [
    "## Aerial Bombing Operations in World War 2##\n",
    "\n",
    "This notebook is based on the [kaggle dataset](https://www.kaggle.com/usaf/world-war-ii) of the same name.\n",
    "\n",
    "World War 2 is a topic that is of great interest to me and I hope to find something interesting regarding the aircraft used and the main theatres of war/areas with most war activity from the USAF's point of view."
   ]
  },
  {
   "cell_type": "code",
   "execution_count": 1,
   "metadata": {
    "collapsed": true
   },
   "outputs": [],
   "source": [
    "import numpy as np\n",
    "import pandas as pd\n",
    "from matplotlib import pyplot as plt\n",
    "\n"
   ]
  },
  {
   "cell_type": "markdown",
   "metadata": {},
   "source": [
    "Let us first import the dataset and store it."
   ]
  },
  {
   "cell_type": "code",
   "execution_count": 22,
   "metadata": {
    "collapsed": false
   },
   "outputs": [],
   "source": [
    "data = pd.read_csv('operations.csv')"
   ]
  },
  {
   "cell_type": "markdown",
   "metadata": {},
   "source": [
    "We will first explore the dataset to get a overview of the data."
   ]
  },
  {
   "cell_type": "code",
   "execution_count": 23,
   "metadata": {
    "collapsed": false
   },
   "outputs": [
    {
     "data": {
      "text/plain": [
       "(178281, 46)"
      ]
     },
     "execution_count": 23,
     "metadata": {},
     "output_type": "execute_result"
    }
   ],
   "source": [
    "data.shape"
   ]
  },
  {
   "cell_type": "markdown",
   "metadata": {},
   "source": [
    "The dataset has 178281 rows of data across 46 different columns. We will next explore the 46 columns."
   ]
  },
  {
   "cell_type": "markdown",
   "metadata": {},
   "source": [
    "There is a wealth of information in this dataset. Let us check if we have any missing or dummy data in the dataset."
   ]
  },
  {
   "cell_type": "code",
   "execution_count": 19,
   "metadata": {
    "collapsed": false
   },
   "outputs": [
    {
     "name": "stdout",
     "output_type": "stream",
     "text": [
      "<class 'pandas.core.frame.DataFrame'>\n",
      "RangeIndex: 178281 entries, 0 to 178280\n",
      "Data columns (total 46 columns):\n",
      "Mission ID                               178281 non-null int64\n",
      "Mission Date                             178281 non-null object\n",
      "Theater of Operations                    175123 non-null object\n",
      "Country                                  126494 non-null object\n",
      "Air Force                                126444 non-null object\n",
      "Unit ID                                  50913 non-null object\n",
      "Aircraft Series                          178165 non-null object\n",
      "Callsign                                 21 non-null object\n",
      "Mission Type                             47186 non-null object\n",
      "Takeoff Base                             3383 non-null object\n",
      "Takeoff Location                         3338 non-null object\n",
      "Takeoff Latitude                         2981 non-null object\n",
      "Takeoff Longitude                        2980 non-null float64\n",
      "Target ID                                127406 non-null object\n",
      "Target Country                           177682 non-null object\n",
      "Target City                              176018 non-null object\n",
      "Target Type                              146370 non-null object\n",
      "Target Industry                          126479 non-null object\n",
      "Target Priority                          134720 non-null object\n",
      "Target Latitude                          169565 non-null float64\n",
      "Target Longitude                         169543 non-null float64\n",
      "Altitude (Hundreds of Feet)              120826 non-null float64\n",
      "Airborne Aircraft                        82242 non-null float64\n",
      "Attacking Aircraft                       125108 non-null float64\n",
      "Bombing Aircraft                         81612 non-null float64\n",
      "Aircraft Returned                        133 non-null float64\n",
      "Aircraft Failed                          247 non-null float64\n",
      "Aircraft Damaged                         38 non-null float64\n",
      "Aircraft Lost                            158 non-null float64\n",
      "High Explosives                          34737 non-null float64\n",
      "High Explosives Type                     41945 non-null object\n",
      "High Explosives Weight (Pounds)          2021 non-null object\n",
      "High Explosives Weight (Tons)            146201 non-null float64\n",
      "Incendiary Devices                       3283 non-null float64\n",
      "Incendiary Devices Type                  5519 non-null object\n",
      "Incendiary Devices Weight (Pounds)       356 non-null float64\n",
      "Incendiary Devices Weight (Tons)         25732 non-null float64\n",
      "Fragmentation Devices                    5768 non-null float64\n",
      "Fragmentation Devices Type               5765 non-null object\n",
      "Fragmentation Devices Weight (Pounds)    194 non-null float64\n",
      "Fragmentation Devices Weight (Tons)      16902 non-null float64\n",
      "Total Weight (Pounds)                    2119 non-null float64\n",
      "Total Weight (Tons)                      166508 non-null float64\n",
      "Time Over Target                         689 non-null object\n",
      "Bomb Damage Assessment                   104 non-null object\n",
      "Source ID                                174236 non-null float64\n",
      "dtypes: float64(22), int64(1), object(23)\n",
      "memory usage: 62.6+ MB\n"
     ]
    }
   ],
   "source": [
    "data.info()"
   ]
  },
  {
   "cell_type": "markdown",
   "metadata": {},
   "source": [
    "The data seems to be quite dirty and may need extensive cleaning. There are multiple columns with very few rows of data. My initial hunch was to remove them since they have very less data, but I decided to leave them as they are and only use the columns which have a good amount of data. In the data cleaning process my focus would be on cleaning the columns which have enough data to regenerate the missing rows."
   ]
  },
  {
   "cell_type": "code",
   "execution_count": 24,
   "metadata": {
    "collapsed": false
   },
   "outputs": [],
   "source": [
    "data = data.drop('Callsign',axis=1)"
   ]
  },
  {
   "cell_type": "code",
   "execution_count": 25,
   "metadata": {
    "collapsed": false
   },
   "outputs": [
    {
     "data": {
      "text/plain": [
       "(178281, 45)"
      ]
     },
     "execution_count": 25,
     "metadata": {},
     "output_type": "execute_result"
    }
   ],
   "source": [
    "data.shape"
   ]
  },
  {
   "cell_type": "code",
   "execution_count": null,
   "metadata": {
    "collapsed": true
   },
   "outputs": [],
   "source": []
  }
 ],
 "metadata": {
  "kernelspec": {
   "display_name": "Python [Root]",
   "language": "python",
   "name": "Python [Root]"
  },
  "language_info": {
   "codemirror_mode": {
    "name": "ipython",
    "version": 2
   },
   "file_extension": ".py",
   "mimetype": "text/x-python",
   "name": "python",
   "nbconvert_exporter": "python",
   "pygments_lexer": "ipython2",
   "version": "2.7.12"
  }
 },
 "nbformat": 4,
 "nbformat_minor": 0
}
