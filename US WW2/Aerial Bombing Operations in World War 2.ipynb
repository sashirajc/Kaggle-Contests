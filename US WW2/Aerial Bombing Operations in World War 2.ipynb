{
 "cells": [
  {
   "cell_type": "markdown",
   "metadata": {},
   "source": [
    "## Aerial Bombing Operations in World War 2##\n",
    "\n",
    "This notebook is based on the [kaggle dataset](https://www.kaggle.com/usaf/world-war-ii) of the same name.\n",
    "\n",
    "World War 2 is a topic that is of great interest to me and I hope to find something interesting regarding the aircraft used and the main theatres of war/areas with most war activity from the USAF's point of view."
   ]
  },
  {
   "cell_type": "code",
   "execution_count": 2,
   "metadata": {
    "collapsed": true
   },
   "outputs": [],
   "source": [
    "import numpy as np\n",
    "import pandas as pd\n",
    "from matplotlib import pyplot as plt\n",
    "\n"
   ]
  },
  {
   "cell_type": "markdown",
   "metadata": {},
   "source": [
    "Let us first import the dataset and store it."
   ]
  },
  {
   "cell_type": "code",
<<<<<<< Updated upstream
   "execution_count": 25,
=======
   "execution_count": 3,
>>>>>>> Stashed changes
   "metadata": {
    "collapsed": false
   },
   "outputs": [
    {
     "name": "stderr",
     "output_type": "stream",
     "text": [
      "/Users/sashirajc/anaconda/lib/python2.7/site-packages/IPython/core/interactiveshell.py:2717: DtypeWarning: Columns (7,8,11,13,31,43,44) have mixed types. Specify dtype option on import or set low_memory=False.\n",
      "  interactivity=interactivity, compiler=compiler, result=result)\n"
     ]
    }
   ],
   "source": [
    "data = pd.read_csv('operations.csv')"
   ]
  },
  {
   "cell_type": "markdown",
   "metadata": {},
   "source": [
    "We will first explore the dataset to get a overview of the data."
   ]
  },
  {
   "cell_type": "code",
<<<<<<< Updated upstream
   "execution_count": 26,
=======
   "execution_count": 4,
>>>>>>> Stashed changes
   "metadata": {
    "collapsed": false
   },
   "outputs": [
    {
     "data": {
      "text/plain": [
       "(178281, 46)"
      ]
     },
<<<<<<< Updated upstream
     "execution_count": 26,
=======
     "execution_count": 4,
>>>>>>> Stashed changes
     "metadata": {},
     "output_type": "execute_result"
    }
   ],
   "source": [
    "data.shape"
   ]
  },
  {
   "cell_type": "markdown",
   "metadata": {},
   "source": [
    "The dataset has 178281 rows of data across 46 different columns. We will next explore the 46 columns."
   ]
  },
  {
   "cell_type": "markdown",
   "metadata": {},
   "source": [
    "There is a wealth of information in this dataset. Let us check if we have any missing or dummy data in the dataset."
   ]
  },
  {
   "cell_type": "code",
   "execution_count": 5,
   "metadata": {
    "collapsed": false
   },
   "outputs": [
    {
     "name": "stdout",
     "output_type": "stream",
     "text": [
      "<class 'pandas.core.frame.DataFrame'>\n",
      "RangeIndex: 178281 entries, 0 to 178280\n",
      "Data columns (total 46 columns):\n",
      "Mission ID                               178281 non-null int64\n",
      "Mission Date                             178281 non-null object\n",
      "Theater of Operations                    175123 non-null object\n",
      "Country                                  126494 non-null object\n",
      "Air Force                                126444 non-null object\n",
      "Unit ID                                  50913 non-null object\n",
      "Aircraft Series                          178165 non-null object\n",
      "Callsign                                 21 non-null object\n",
      "Mission Type                             47186 non-null object\n",
      "Takeoff Base                             3383 non-null object\n",
      "Takeoff Location                         3338 non-null object\n",
      "Takeoff Latitude                         2981 non-null object\n",
      "Takeoff Longitude                        2980 non-null float64\n",
      "Target ID                                127406 non-null object\n",
      "Target Country                           177682 non-null object\n",
      "Target City                              176018 non-null object\n",
      "Target Type                              146370 non-null object\n",
      "Target Industry                          126479 non-null object\n",
      "Target Priority                          134720 non-null object\n",
      "Target Latitude                          169565 non-null float64\n",
      "Target Longitude                         169543 non-null float64\n",
      "Altitude (Hundreds of Feet)              120826 non-null float64\n",
      "Airborne Aircraft                        82242 non-null float64\n",
      "Attacking Aircraft                       125108 non-null float64\n",
      "Bombing Aircraft                         81612 non-null float64\n",
      "Aircraft Returned                        133 non-null float64\n",
      "Aircraft Failed                          247 non-null float64\n",
      "Aircraft Damaged                         38 non-null float64\n",
      "Aircraft Lost                            158 non-null float64\n",
      "High Explosives                          34737 non-null float64\n",
      "High Explosives Type                     41945 non-null object\n",
      "High Explosives Weight (Pounds)          2021 non-null object\n",
      "High Explosives Weight (Tons)            146201 non-null float64\n",
      "Incendiary Devices                       3283 non-null float64\n",
      "Incendiary Devices Type                  5519 non-null object\n",
      "Incendiary Devices Weight (Pounds)       356 non-null float64\n",
      "Incendiary Devices Weight (Tons)         25732 non-null float64\n",
      "Fragmentation Devices                    5768 non-null float64\n",
      "Fragmentation Devices Type               5765 non-null object\n",
      "Fragmentation Devices Weight (Pounds)    194 non-null float64\n",
      "Fragmentation Devices Weight (Tons)      16902 non-null float64\n",
      "Total Weight (Pounds)                    2119 non-null float64\n",
      "Total Weight (Tons)                      166508 non-null float64\n",
      "Time Over Target                         689 non-null object\n",
      "Bomb Damage Assessment                   104 non-null object\n",
      "Source ID                                174236 non-null float64\n",
      "dtypes: float64(22), int64(1), object(23)\n",
      "memory usage: 62.6+ MB\n"
     ]
    }
   ],
   "source": [
    "data.info()"
   ]
  },
  {
   "cell_type": "markdown",
   "metadata": {},
   "source": [
    "The data seems to be quite dirty and may need extensive cleaning. There are multiple columns with very few rows of data. My initial hunch was to remove them since they have very less data, but I decided to leave them as they are and only use the columns which have a good amount of data. In the data cleaning process my focus would be on cleaning the columns which have enough data to regenerate the missing rows."
   ]
  },
  {
   "cell_type": "code",
<<<<<<< Updated upstream
   "execution_count": 27,
=======
   "execution_count": 6,
>>>>>>> Stashed changes
   "metadata": {
    "collapsed": false
   },
   "outputs": [],
   "source": [
    "data = data.drop('Callsign',axis=1)"
   ]
  },
  {
   "cell_type": "markdown",
   "metadata": {},
   "source": [
    "Let us check the shape of the data to ensure that the Callsign column has been dropped."
   ]
  },
  {
   "cell_type": "code",
<<<<<<< Updated upstream
   "execution_count": 28,
=======
   "execution_count": 7,
>>>>>>> Stashed changes
   "metadata": {
    "collapsed": false
   },
   "outputs": [
    {
     "data": {
      "text/plain": [
       "(178281, 45)"
      ]
     },
<<<<<<< Updated upstream
     "execution_count": 28,
=======
     "execution_count": 7,
>>>>>>> Stashed changes
     "metadata": {},
     "output_type": "execute_result"
    }
   ],
   "source": [
    "data.shape"
   ]
  },
  {
   "cell_type": "markdown",
   "metadata": {},
   "source": [
    "Let us start our analysis with aircraft series since it has the least amount of missing data."
   ]
  },
  {
   "cell_type": "code",
<<<<<<< Updated upstream
   "execution_count": 29,
   "metadata": {
    "collapsed": true
   },
   "outputs": [],
   "source": [
    "data['Aircraft Series'].fillna('NoAircraft',inplace=True)"
   ]
  },
  {
   "cell_type": "code",
   "execution_count": 30,
=======
   "execution_count": 8,
>>>>>>> Stashed changes
   "metadata": {
    "collapsed": false
   },
   "outputs": [
    {
     "data": {
      "text/plain": [
       "75"
      ]
     },
<<<<<<< Updated upstream
     "execution_count": 30,
=======
     "execution_count": 8,
>>>>>>> Stashed changes
     "metadata": {},
     "output_type": "execute_result"
    }
   ],
   "source": [
    "len(data['Aircraft Series'].unique())"
   ]
  },
  {
   "cell_type": "markdown",
   "metadata": {},
   "source": [
    "75 different types of bomber aircraft are in the dataset.\n",
    "\n",
    " We will first replace all NaN with dummy values. Then based on the country and theatre of operations we will assign aircraft series name to the blanks. This has the possibility of introducing errors in our analysis by making the data unreliable. But since we have less than 200 missing values but almost 178000 over rows in our dataset, this is okay for Aircraft Series column. Since the data we assume is unlikely to change the overall analysis."
   ]
  },
  {
   "cell_type": "code",
   "execution_count": 16,
   "metadata": {
    "collapsed": true
   },
   "outputs": [],
   "source": [
    "data['Aircraft Series'].fillna('NoAircraft',inplace=True)"
   ]
  },
  {
   "cell_type": "code",
<<<<<<< Updated upstream
   "execution_count": 31,
=======
   "execution_count": 17,
>>>>>>> Stashed changes
   "metadata": {
    "collapsed": false
   },
   "outputs": [
    {
     "data": {
      "text/plain": [
<<<<<<< Updated upstream
       "B24              33837\n",
       "B17              31448\n",
       "B25              17359\n",
       "A20              12561\n",
       "B26              11980\n",
       "GB17              9124\n",
       "WELL              6391\n",
       "HVY               6298\n",
       "A26               4736\n",
       "P47               4660\n",
       "LGT               3673\n",
       "P51               3623\n",
       "HAMP              3552\n",
       "BLEN              3223\n",
       "WHIT              3205\n",
       "GB24              3110\n",
       "P38               3001\n",
       "P40               2891\n",
       "B29               2518\n",
       "MED               2379\n",
       "A36               1384\n",
       "OB24              1067\n",
       "P39                893\n",
       "SB17               855\n",
       "LIB                769\n",
       "OB17               490\n",
       "SB24               447\n",
       "STIR               404\n",
       "F4U                361\n",
       "HALI               286\n",
       "                 ...  \n",
       "BEAUF               26\n",
       "BOST                23\n",
       "BATT                23\n",
       "ALBA                23\n",
       "AUDA                20\n",
       "MARY                18\n",
       "P400                17\n",
       "SBD DAUNTLESS       16\n",
       "MOHAWK              14\n",
       "BOSTON              14\n",
       "TBF                 12\n",
       "B32                 12\n",
       "LYSANDER            11\n",
       "LB30                10\n",
       "BEAU                 5\n",
       "JU86                 5\n",
       "VALE                 5\n",
       "TOM                  5\n",
       "43 BG                3\n",
       "SBD                  2\n",
       "WIRRAWAY             2\n",
       "BALT                 2\n",
       "SUND                 1\n",
       "P45                  1\n",
       "BOM                  1\n",
       "BISLEY               1\n",
       "100 SQ               1\n",
       "P401                 1\n",
       "236/330 WINGS        1\n",
       "35 FG                1\n",
       "Name: Aircraft Series, dtype: int64"
      ]
     },
     "execution_count": 31,
=======
       "B17                41973\n",
       "B24                39377\n",
       "B25                17359\n",
       "A20                12584\n",
       "B26                11980\n",
       "WELL                6391\n",
       "HVY                 6298\n",
       "A26                 4736\n",
       "P47                 4660\n",
       "LGT                 3673\n",
       "P51                 3623\n",
       "HAMP                3552\n",
       "BLEN                3224\n",
       "WHIT                3205\n",
       "P38                 3002\n",
       "P40                 2892\n",
       "B29                 2518\n",
       "MED                 2379\n",
       "A36                 1384\n",
       "P39                  893\n",
       "STIR                 404\n",
       "F4U                  361\n",
       "HALI                 286\n",
       "HUDSON               180\n",
       "P61                  174\n",
       "MANC                 155\n",
       "VENGEANCE (A31)      118\n",
       "NoAircraft           116\n",
       "CATALINA             109\n",
       "A24                  100\n",
       "PV-1 VENTURA          89\n",
       "HURR                  71\n",
       "F06                   61\n",
       "P70                   60\n",
       "TBF                   47\n",
       "SWORD                 41\n",
       "BEAUF                 26\n",
       "UNKNOWN               25\n",
       "ALBA                  23\n",
       "BATT                  23\n",
       "MARY                  18\n",
       "P400                  17\n",
       "BOSTON                14\n",
       "P36                   14\n",
       "B32                   12\n",
       "LYSANDER              11\n",
       "BEAU                   5\n",
       "JU86                   5\n",
       "VALE                   5\n",
       "WIRRAWAY               2\n",
       "BALT                   2\n",
       "SUND                   1\n",
       "236/330 WINGS          1\n",
       "P45                    1\n",
       "BOM                    1\n",
       "Name: Aircraft Series, dtype: int64"
      ]
     },
     "execution_count": 17,
>>>>>>> Stashed changes
     "metadata": {},
     "output_type": "execute_result"
    }
   ],
   "source": [
    "data['Aircraft Series'].value_counts()"
   ]
  },
  {
   "cell_type": "markdown",
   "metadata": {},
   "source": [
    "Some of these aircraft seem to be repeats and inaccurate. Ex- GB24, OB24 and B24 - I suspect these are the same aircraft and erroneously listed as different aircraft. We will first clean up the aircraft names. This can be quite tedious since we need to cross verify with other resources and check if there is an aircraft of the given name. "
   ]
  },
  {
   "cell_type": "markdown",
   "metadata": {},
   "source": [
    "By cross checking on wikipedia and google for each of the aircraft types I reached the following conclusions.\n",
    "1. GB24, OB24, SB24, 0B24, LB30, LIB are different names for B24\n",
    "2. GB17, OB17, SB17, 0B17 are different names for B17\n",
    "3. BOST is a different name for A20\n",
    "4. TBF is a different name for TBF Avenger\n",
    "5. SBD and SBD Dauntless are different names for A24\n",
    "6. Bisley is a different name for Blen\n",
    "7. Mohawk is a different name for P36\n",
    "8. Auda and Tom could not be identified as aircraft names\n",
    "9. HVY, LGT and MED refer to Heavy, Light and Medium bombers respectively. These must be further explored based on their nationality.\n",
    "10. P401 is probably a variant of P40\n",
    "11. There are some japanese and german aircraft as well such as Hamp, Mary, Val and Ju86. Turns out that Ju86 was used by the South African AF. This can probably be used to get the names of Country if any rows with Ju86 as aircraft type are missing the values for Country column.\n",
    "12. Some values such as 43 BG, 100SQ refer to the units that operated them. 43 BG operated B17 for most of the war and then operated B24. Since they are only 3 in number we will add them to B17 directly. 35 FG operated P38s. 100SQ operated Lancaster which is a evolved version of Machester. Since there is only one aircraft under 100SQ we will add it to MANC\n",
    "13. 116 of the rows are missing values. This is described as NoAircraft. \n",
    "\n",
    "We will clean the imperfections noticed and get the count again."
   ]
  },
  {
   "cell_type": "code",
<<<<<<< Updated upstream
   "execution_count": 32,
=======
   "execution_count": 24,
>>>>>>> Stashed changes
   "metadata": {
    "collapsed": false
   },
   "outputs": [
    {
     "data": {
      "text/plain": [
       "B17                41973\n",
       "B24                39377\n",
       "B25                17359\n",
       "A20                12584\n",
       "B26                11980\n",
       "WELL                6391\n",
       "HVY                 6298\n",
       "A26                 4736\n",
       "P47                 4660\n",
       "LGT                 3673\n",
       "P51                 3623\n",
       "HAMP                3552\n",
       "BLEN                3224\n",
       "WHIT                3205\n",
       "P38                 3002\n",
       "P40                 2892\n",
       "B29                 2518\n",
       "MED                 2379\n",
       "A36                 1384\n",
       "P39                  893\n",
       "STIR                 404\n",
       "F4U                  361\n",
       "HALI                 286\n",
       "HUDSON               180\n",
       "P61                  174\n",
       "MANC                 155\n",
       "VENGEANCE (A31)      118\n",
       "NoAircraft           116\n",
       "CATALINA             109\n",
       "A24                  100\n",
       "PV-1 VENTURA          89\n",
       "HURR                  71\n",
       "F06                   61\n",
       "P70                   60\n",
       "TBF                   47\n",
       "SWORD                 41\n",
       "UNKNOWN               26\n",
       "BEAUF                 26\n",
       "BATT                  23\n",
       "ALBA                  23\n",
       "MARY                  18\n",
       "P400                  17\n",
       "BOSTON                14\n",
       "P36                   14\n",
       "B32                   12\n",
       "LYSANDER              11\n",
       "JU86                   5\n",
       "VALE                   5\n",
       "BEAU                   5\n",
       "BALT                   2\n",
       "WIRRAWAY               2\n",
       "SUND                   1\n",
       "P45                    1\n",
       "BOM                    1\n",
       "Name: Aircraft Series, dtype: int64"
      ]
     },
<<<<<<< Updated upstream
     "execution_count": 32,
=======
     "execution_count": 24,
>>>>>>> Stashed changes
     "metadata": {},
     "output_type": "execute_result"
    }
   ],
   "source": [
    "data.replace({'Aircraft Series':{'GB24':'B24','OB24':'B24','SB24':'B24','LIB':'B24','0B24':'B24'}},inplace=True)\n",
    "data.replace({'Aircraft Series':{'BOST':'A20','GB17':'B17','SB17':'B17','OB17':'B17','0B17':'B17'}},inplace=True)\n",
    "data.replace({'Aircraft Series':{'TBF AVENGER':'TBF','LB30':'B24','SBD DAUNTLESS':'A24','SBD':'A24'}},inplace=True)\n",
    "data.replace({'Aircraft Series':{'BISLEY':'BLEN','MOHAWK':'P36','P401':'P40','43 BG':'B17'}},inplace=True)\n",
    "data.replace({'Aircraft Series':{'100 SQ':'MANC','35 FG':'P38','P401':'P40','43 BG':'B17'}},inplace=True)\n",
    "data.replace({'Aircraft Series':{'AUDA':'UNKNOWN','TOM':'UNKNOWN','236/330 WINGS':'UNKNOWN'}},inplace=True)\n",
    "data['Aircraft Series'].value_counts()"
   ]
  },
  {
   "cell_type": "code",
<<<<<<< Updated upstream
   "execution_count": 33,
=======
   "execution_count": 25,
>>>>>>> Stashed changes
   "metadata": {
    "collapsed": false
   },
   "outputs": [
    {
     "data": {
      "text/plain": [
       "54"
      ]
     },
<<<<<<< Updated upstream
     "execution_count": 33,
=======
     "execution_count": 25,
>>>>>>> Stashed changes
     "metadata": {},
     "output_type": "execute_result"
    }
   ],
   "source": [
    "len(data['Aircraft Series'].unique())"
   ]
  },
  {
   "cell_type": "code",
<<<<<<< Updated upstream
   "execution_count": 36,
=======
   "execution_count": 20,
>>>>>>> Stashed changes
   "metadata": {
    "collapsed": false
   },
   "outputs": [
    {
     "data": {
      "text/plain": [
       "Series([], dtype: int64)"
      ]
     },
<<<<<<< Updated upstream
     "execution_count": 36,
=======
     "execution_count": 20,
>>>>>>> Stashed changes
     "metadata": {},
     "output_type": "execute_result"
    }
   ],
   "source": [
    "data[data['Aircraft Series']=='HVY'].groupby(['Country']).size()"
   ]
  },
  {
   "cell_type": "markdown",
   "metadata": {},
   "source": [
    "The most common british heavy bomber from world war 2 was the halifax. We will replace HVY where Country is UK to HALI.\n",
    "The most common american heavy bomber from world war 2 was the B17. We will replace HVY where Country is USA to B17."
   ]
  },
  {
   "cell_type": "code",
   "execution_count": 35,
   "metadata": {
    "collapsed": false
   },
   "outputs": [],
   "source": [
    "data.loc[data['Country'] == 'USA','Aircraft Series'] = data[data['Country'] == 'USA']['Aircraft Series'].replace(to_replace='HVY', value='B17', regex=True)\n",
    "data.loc[data['Country'] == 'GREAT BRITAIN','Aircraft Series'] = data[data['Country'] == 'GREAT BRITAIN']['Aircraft Series'].replace(to_replace='HVY', value='HALI', regex=True)"
   ]
  },
  {
   "cell_type": "code",
   "execution_count": 37,
   "metadata": {
    "collapsed": false
   },
   "outputs": [
    {
     "data": {
      "text/plain": [
       "Country\n",
       "GREAT BRITAIN    3657\n",
       "dtype: int64"
      ]
     },
     "execution_count": 37,
     "metadata": {},
     "output_type": "execute_result"
    }
   ],
   "source": [
    "data[data['Aircraft Series']=='LGT'].groupby(['Country']).size()"
   ]
  },
  {
   "cell_type": "markdown",
   "metadata": {},
   "source": [
    "The bombers classified as light are all british. The most common british light bomber in the dataset is the BLEN and hence we will replace LGT with BLEN in the database."
   ]
  },
  {
   "cell_type": "code",
   "execution_count": 38,
   "metadata": {
    "collapsed": true
   },
   "outputs": [],
   "source": [
    "data.replace({'Aircraft Series':{'LGT':'BLEN'}},inplace=True)"
   ]
  },
  {
   "cell_type": "code",
   "execution_count": 39,
   "metadata": {
    "collapsed": false
   },
   "outputs": [
    {
     "data": {
      "text/plain": [
       "Country\n",
       "GREAT BRITAIN    2366\n",
       "USA                 5\n",
       "dtype: int64"
      ]
     },
     "execution_count": 39,
     "metadata": {},
     "output_type": "execute_result"
    }
   ],
   "source": [
    "data[data['Aircraft Series']=='MED'].groupby(['Country']).size()"
   ]
  },
  {
   "cell_type": "markdown",
   "metadata": {},
   "source": [
    "The most common british medium bomber was the whitley. Hence all british bombers listed as MED will be replaced by WHIT\n",
    "The most common american medium bomber was the B25. Hence all american bombers listed as MED will be replaced by B25"
   ]
  },
  {
   "cell_type": "code",
   "execution_count": 40,
   "metadata": {
    "collapsed": true
   },
   "outputs": [],
   "source": [
    "data.loc[data['Country'] == 'USA','Aircraft Series'] = data[data['Country'] == 'USA']['Aircraft Series'].replace(to_replace='MED', value='B25', regex=True)\n",
    "data.loc[data['Country'] == 'GREAT BRITAIN','Aircraft Series'] = data[data['Country'] == 'GREAT BRITAIN']['Aircraft Series'].replace(to_replace='MED', value='WHIT', regex=True)"
   ]
  },
  {
   "cell_type": "code",
   "execution_count": 55,
   "metadata": {
    "collapsed": false
   },
   "outputs": [
    {
     "data": {
      "text/plain": [
       "Series([], dtype: int64)"
      ]
     },
     "execution_count": 55,
     "metadata": {},
     "output_type": "execute_result"
    }
   ],
   "source": [
    "data[data['Aircraft Series'] == 'NoAircraft'].groupby(['Country']).size()"
   ]
  },
  {
   "cell_type": "code",
   "execution_count": 45,
   "metadata": {
    "collapsed": false
   },
   "outputs": [
    {
     "data": {
      "text/plain": [
       "Aircraft Series\n",
       "A20                 411\n",
       "A26                 108\n",
       "ALBA                 23\n",
       "B17                   4\n",
       "B24                 768\n",
       "B25                  85\n",
       "B26                  69\n",
       "BALT                  2\n",
       "BATT                 20\n",
       "BEAU                  4\n",
       "BEAUF                15\n",
       "BLEN               6864\n",
       "BOM                   1\n",
       "BOSTON               14\n",
       "HALI               6530\n",
       "HAMP               3545\n",
       "HUDSON               18\n",
       "HURR                 71\n",
       "LYSANDER             11\n",
       "MANC                154\n",
       "MARY                 15\n",
       "NoAircraft          100\n",
       "P36                  14\n",
       "P40                   1\n",
       "STIR                404\n",
       "SUND                  1\n",
       "SWORD                41\n",
       "UNKNOWN              22\n",
       "VALE                  5\n",
       "VENGEANCE (A31)     118\n",
       "WELL               6368\n",
       "WHIT               5555\n",
       "dtype: int64"
      ]
     },
     "execution_count": 45,
     "metadata": {},
     "output_type": "execute_result"
    }
   ],
   "source": [
    "data[data['Country'] == 'GREAT BRITAIN'].groupby(['Aircraft Series']).size()"
   ]
  },
  {
   "cell_type": "markdown",
   "metadata": {},
   "source": [
    "The most common aircraft in Great Britain's air force was the Blen. Hence we will assign the unknown aircraft to the blen type as well."
   ]
  },
  {
   "cell_type": "code",
   "execution_count": 47,
   "metadata": {
    "collapsed": true
   },
   "outputs": [],
   "source": [
    "data.loc[data['Country'] == 'GREAT BRITAIN','Aircraft Series'] = data[data['Country'] == 'GREAT BRITAIN']['Aircraft Series'].replace(to_replace='NoAircraft', value='BLEN', regex=True)"
   ]
  },
  {
   "cell_type": "markdown",
   "metadata": {},
   "source": [
<<<<<<< Updated upstream
    "Similarly we will replace for US and South Africa with the most common aircraft type in their air forces."
=======
    "We will replace the dummy values assigned to blank rows. To do that let us observe which country has the blank values and the theatre of operations."
>>>>>>> Stashed changes
   ]
  },
  {
   "cell_type": "code",
<<<<<<< Updated upstream
   "execution_count": 49,
=======
   "execution_count": 22,
>>>>>>> Stashed changes
   "metadata": {
    "collapsed": false
   },
   "outputs": [
    {
     "data": {
      "text/plain": [
<<<<<<< Updated upstream
       "Aircraft Series\n",
       "BATT          3\n",
       "BLEN          1\n",
       "JU86          5\n",
       "MARY          3\n",
       "NoAircraft    7\n",
       "dtype: int64"
      ]
     },
     "execution_count": 49,
=======
       "Country        Theater of Operations\n",
       "GREAT BRITAIN  CBI                      36\n",
       "               EAST AFRICA              10\n",
       "               MADAGASCAR                2\n",
       "               MTO                      52\n",
       "SOUTH AFRICA   EAST AFRICA               1\n",
       "               MTO                       6\n",
       "USA            CBI                       2\n",
       "               PTO                       7\n",
       "dtype: int64"
      ]
     },
     "execution_count": 22,
>>>>>>> Stashed changes
     "metadata": {},
     "output_type": "execute_result"
    }
   ],
   "source": [
<<<<<<< Updated upstream
    "data[data['Country'] == 'SOUTH AFRICA'].groupby(['Aircraft Series']).size()"
=======
    "data[data['Aircraft Series']=='NoAircraft'].groupby(['Country','Theater of Operations']).size()"
   ]
  },
  {
   "cell_type": "markdown",
   "metadata": {},
   "source": [
    "**HVY and MED are still not taken care of**\n",
    "\n",
    "**No Aircraft not taken care of as well**"
>>>>>>> Stashed changes
   ]
  },
  {
   "cell_type": "markdown",
   "metadata": {},
   "source": [
    "This is a very tricky situation since there is very less data on South Africa's Air Force. The only right thing to do for this case is to categorise these aircraft as Unknown rather than to the most common."
   ]
  },
  {
   "cell_type": "code",
   "execution_count": 50,
   "metadata": {
    "collapsed": true
   },
   "outputs": [],
   "source": [
    "data.loc[data['Country'] == 'SOUTH AFRICA','Aircraft Series'] = data[data['Country'] == 'SOUTH AFRICA']['Aircraft Series'].replace(to_replace='NoAircraft', value='UNKNOWN', regex=True)"
   ]
  },
  {
   "cell_type": "code",
<<<<<<< Updated upstream
   "execution_count": 53,
=======
   "execution_count": 23,
>>>>>>> Stashed changes
   "metadata": {
    "collapsed": false
   },
   "outputs": [
    {
     "data": {
      "text/plain": [
<<<<<<< Updated upstream
       "Aircraft Series\n",
       "A20            9280\n",
       "A24              82\n",
       "A26            3231\n",
       "A36            1384\n",
       "B17           16507\n",
       "B24           26155\n",
       "B25           14911\n",
       "B26            4751\n",
       "B29            2518\n",
       "B32              12\n",
       "BLEN             16\n",
       "CATALINA          1\n",
       "F06              61\n",
       "HAMP              7\n",
       "HUDSON            1\n",
       "NoAircraft        9\n",
       "P38            3002\n",
       "P39             893\n",
       "P40            2772\n",
       "P400             16\n",
       "P45               1\n",
       "P47            4660\n",
       "P51            3623\n",
       "P61             174\n",
       "P70              60\n",
       "WELL             22\n",
       "WHIT             16\n",
       "dtype: int64"
      ]
     },
     "execution_count": 53,
     "metadata": {},
     "output_type": "execute_result"
    }
   ],
   "source": [
    "data[data['Country'] == 'USA'].groupby(['Aircraft Series']).size()"
   ]
  },
  {
   "cell_type": "code",
   "execution_count": 54,
   "metadata": {
    "collapsed": true
   },
   "outputs": [],
   "source": [
    "data.loc[data['Country'] == 'USA','Aircraft Series'] = data[data['Country'] == 'USA']['Aircraft Series'].replace(to_replace='NoAircraft', value='B24', regex=True)"
   ]
  },
  {
   "cell_type": "markdown",
   "metadata": {},
   "source": [
    "Let us print all the aircraft types one last time to ensure all irregularities are fixed."
   ]
  },
  {
   "cell_type": "code",
   "execution_count": 56,
   "metadata": {
    "collapsed": false
   },
   "outputs": [
    {
     "data": {
      "text/plain": [
       "B17                42021\n",
       "B24                39386\n",
       "B25                17364\n",
       "A20                12584\n",
       "B26                11980\n",
       "BLEN                6997\n",
       "HALI                6531\n",
       "WELL                6391\n",
       "WHIT                5571\n",
       "A26                 4736\n",
       "P47                 4660\n",
       "P51                 3623\n",
       "HAMP                3552\n",
=======
       "B17                41973\n",
       "B24                39377\n",
       "B25                17359\n",
       "A20                12584\n",
       "B26                11980\n",
       "WELL                6391\n",
       "HVY                 6298\n",
       "A26                 4736\n",
       "P47                 4660\n",
       "LGT                 3673\n",
       "P51                 3623\n",
       "HAMP                3552\n",
       "BLEN                3224\n",
       "WHIT                3205\n",
>>>>>>> Stashed changes
       "P38                 3002\n",
       "P40                 2892\n",
       "B29                 2518\n",
       "A36                 1384\n",
       "P39                  893\n",
       "STIR                 404\n",
       "F4U                  361\n",
       "HUDSON               180\n",
       "P61                  174\n",
       "MANC                 155\n",
       "VENGEANCE (A31)      118\n",
       "NoAircraft           116\n",
       "CATALINA             109\n",
       "A24                  100\n",
       "PV-1 VENTURA          89\n",
       "HURR                  71\n",
       "F06                   61\n",
       "P70                   60\n",
       "TBF                   47\n",
       "SWORD                 41\n",
       "UNKNOWN               33\n",
       "BEAUF                 26\n",
<<<<<<< Updated upstream
=======
       "UNKNOWN               25\n",
>>>>>>> Stashed changes
       "ALBA                  23\n",
       "BATT                  23\n",
       "MARY                  18\n",
       "P400                  17\n",
       "P36                   14\n",
       "BOSTON                14\n",
       "B32                   12\n",
       "LYSANDER              11\n",
<<<<<<< Updated upstream
       "MED                    8\n",
=======
>>>>>>> Stashed changes
       "BEAU                   5\n",
       "JU86                   5\n",
       "HVY                    5\n",
       "VALE                   5\n",
       "WIRRAWAY               2\n",
       "BALT                   2\n",
       "SUND                   1\n",
       "236/330 WINGS          1\n",
       "P45                    1\n",
       "BOM                    1\n",
       "Name: Aircraft Series, dtype: int64"
      ]
     },
<<<<<<< Updated upstream
     "execution_count": 56,
=======
     "execution_count": 23,
>>>>>>> Stashed changes
     "metadata": {},
     "output_type": "execute_result"
    }
   ],
   "source": [
    "data['Aircraft Series'].value_counts()"
   ]
  },
  {
   "cell_type": "markdown",
   "metadata": {},
   "source": [
    "It can be observed that we still have 8 aircraft that are listed as MED and 5 aircraft listed as HVY. This is puzzling since we have already cleaned rows where Aircraft Series was listed as HVY and MED. Let us explore them better to see why they did not get cleaned the first time."
   ]
  },
  {
   "cell_type": "code",
   "execution_count": 67,
   "metadata": {
    "collapsed": false
   },
   "outputs": [
    {
     "data": {
      "text/html": [
       "<div>\n",
       "<table border=\"1\" class=\"dataframe\">\n",
       "  <thead>\n",
       "    <tr style=\"text-align: right;\">\n",
       "      <th></th>\n",
       "      <th>Mission ID</th>\n",
       "      <th>Mission Date</th>\n",
       "      <th>Theater of Operations</th>\n",
       "      <th>Country</th>\n",
       "      <th>Air Force</th>\n",
       "      <th>Unit ID</th>\n",
       "      <th>Aircraft Series</th>\n",
       "      <th>Mission Type</th>\n",
       "      <th>Takeoff Base</th>\n",
       "      <th>Takeoff Location</th>\n",
       "      <th>...</th>\n",
       "      <th>Incendiary Devices Weight (Tons)</th>\n",
       "      <th>Fragmentation Devices</th>\n",
       "      <th>Fragmentation Devices Type</th>\n",
       "      <th>Fragmentation Devices Weight (Pounds)</th>\n",
       "      <th>Fragmentation Devices Weight (Tons)</th>\n",
       "      <th>Total Weight (Pounds)</th>\n",
       "      <th>Total Weight (Tons)</th>\n",
       "      <th>Time Over Target</th>\n",
       "      <th>Bomb Damage Assessment</th>\n",
       "      <th>Source ID</th>\n",
       "    </tr>\n",
       "  </thead>\n",
       "  <tbody>\n",
       "  </tbody>\n",
       "</table>\n",
       "<p>0 rows × 45 columns</p>\n",
       "</div>"
      ],
      "text/plain": [
       "Empty DataFrame\n",
       "Columns: [Mission ID, Mission Date, Theater of Operations, Country, Air Force, Unit ID, Aircraft Series, Mission Type, Takeoff Base, Takeoff Location, Takeoff Latitude, Takeoff Longitude, Target ID, Target Country, Target City, Target Type, Target Industry, Target Priority, Target Latitude, Target Longitude, Altitude (Hundreds of Feet), Airborne Aircraft, Attacking Aircraft, Bombing Aircraft, Aircraft Returned, Aircraft Failed, Aircraft Damaged, Aircraft Lost, High Explosives, High Explosives Type, High Explosives Weight (Pounds), High Explosives Weight (Tons), Incendiary Devices, Incendiary Devices Type, Incendiary Devices Weight (Pounds), Incendiary Devices Weight (Tons), Fragmentation Devices, Fragmentation Devices Type, Fragmentation Devices Weight (Pounds), Fragmentation Devices Weight (Tons), Total Weight (Pounds), Total Weight (Tons), Time Over Target, Bomb Damage Assessment, Source ID]\n",
       "Index: []\n",
       "\n",
       "[0 rows x 45 columns]"
      ]
     },
     "execution_count": 67,
     "metadata": {},
     "output_type": "execute_result"
    }
   ],
   "source": [
    "data[data['Aircraft Series']=='MED']"
   ]
  },
  {
   "cell_type": "code",
   "execution_count": 65,
   "metadata": {
    "collapsed": false
   },
   "outputs": [
    {
     "data": {
      "text/html": [
       "<div>\n",
       "<table border=\"1\" class=\"dataframe\">\n",
       "  <thead>\n",
       "    <tr style=\"text-align: right;\">\n",
       "      <th></th>\n",
       "      <th>Mission ID</th>\n",
       "      <th>Mission Date</th>\n",
       "      <th>Theater of Operations</th>\n",
       "      <th>Country</th>\n",
       "      <th>Air Force</th>\n",
       "      <th>Unit ID</th>\n",
       "      <th>Aircraft Series</th>\n",
       "      <th>Mission Type</th>\n",
       "      <th>Takeoff Base</th>\n",
       "      <th>Takeoff Location</th>\n",
       "      <th>...</th>\n",
       "      <th>Incendiary Devices Weight (Tons)</th>\n",
       "      <th>Fragmentation Devices</th>\n",
       "      <th>Fragmentation Devices Type</th>\n",
       "      <th>Fragmentation Devices Weight (Pounds)</th>\n",
       "      <th>Fragmentation Devices Weight (Tons)</th>\n",
       "      <th>Total Weight (Pounds)</th>\n",
       "      <th>Total Weight (Tons)</th>\n",
       "      <th>Time Over Target</th>\n",
       "      <th>Bomb Damage Assessment</th>\n",
       "      <th>Source ID</th>\n",
       "    </tr>\n",
       "  </thead>\n",
       "  <tbody>\n",
       "  </tbody>\n",
       "</table>\n",
       "<p>0 rows × 45 columns</p>\n",
       "</div>"
      ],
      "text/plain": [
       "Empty DataFrame\n",
       "Columns: [Mission ID, Mission Date, Theater of Operations, Country, Air Force, Unit ID, Aircraft Series, Mission Type, Takeoff Base, Takeoff Location, Takeoff Latitude, Takeoff Longitude, Target ID, Target Country, Target City, Target Type, Target Industry, Target Priority, Target Latitude, Target Longitude, Altitude (Hundreds of Feet), Airborne Aircraft, Attacking Aircraft, Bombing Aircraft, Aircraft Returned, Aircraft Failed, Aircraft Damaged, Aircraft Lost, High Explosives, High Explosives Type, High Explosives Weight (Pounds), High Explosives Weight (Tons), Incendiary Devices, Incendiary Devices Type, Incendiary Devices Weight (Pounds), Incendiary Devices Weight (Tons), Fragmentation Devices, Fragmentation Devices Type, Fragmentation Devices Weight (Pounds), Fragmentation Devices Weight (Tons), Total Weight (Pounds), Total Weight (Tons), Time Over Target, Bomb Damage Assessment, Source ID]\n",
       "Index: []\n",
       "\n",
       "[0 rows x 45 columns]"
      ]
     },
     "execution_count": 65,
     "metadata": {},
     "output_type": "execute_result"
    }
   ],
   "source": [
    "data[data['Aircraft Series'] == 'HVY']"
   ]
  },
  {
   "cell_type": "markdown",
   "metadata": {},
   "source": [
    "It looks like these are rows with no data for Country. It also appears that they have very little data on the other columns. Hence we will be deleting these rows from the dataset."
   ]
  },
  {
   "cell_type": "code",
   "execution_count": 66,
   "metadata": {
    "collapsed": false
   },
   "outputs": [],
   "source": [
    "data = data.drop(data[data['Aircraft Series'] == 'HVY'].index)\n",
    "data = data.drop(data[data['Aircraft Series'] == 'MED'].index)"
   ]
  },
  {
   "cell_type": "markdown",
   "metadata": {},
   "source": [
    "We have sufficiently cleaned the Aircraft Series column.\n",
    "\n",
    "Next, let us analyze with the Country column. Let us first check the number of rows for each Country."
   ]
  },
  {
   "cell_type": "code",
   "execution_count": 71,
   "metadata": {
    "collapsed": false
   },
   "outputs": [
    {
     "data": {
      "text/plain": [
       "USA              94165\n",
       "NoCountry        51774\n",
       "GREAT BRITAIN    31361\n",
       "NEW ZEALAND        633\n",
       "AUSTRALIA          316\n",
       "SOUTH AFRICA        19\n",
       "Name: Country, dtype: int64"
      ]
     },
     "execution_count": 71,
     "metadata": {},
     "output_type": "execute_result"
    }
   ],
   "source": [
    "data.Country.value_counts()"
   ]
  },
  {
   "cell_type": "markdown",
   "metadata": {},
   "source": [
    "This doesn't give us the rows with null values (in Column 'Country'). Let us check for null values and see if there are any rows with null values."
   ]
  },
  {
   "cell_type": "code",
   "execution_count": 69,
   "metadata": {
    "collapsed": false
   },
   "outputs": [
    {
     "data": {
      "text/plain": [
       "51774"
      ]
     },
     "execution_count": 69,
     "metadata": {},
     "output_type": "execute_result"
    }
   ],
   "source": [
    "sum(pd.isnull(data['Country']))"
   ]
  },
  {
   "cell_type": "markdown",
   "metadata": {},
   "source": [
    "There are about 51774 rows with null values in the dataset. This can definitely be cleaned further and maybe we can even deduce the Country names based on the theatre of war and aircraft used. We will first replace all NAs with NoCountry so it is easier to use the groupby function to observe the data."
   ]
  },
  {
   "cell_type": "code",
   "execution_count": 70,
   "metadata": {
    "collapsed": false
   },
   "outputs": [],
   "source": [
    "data['Country'].fillna('NoCountry',inplace=True)"
   ]
  },
  {
   "cell_type": "markdown",
   "metadata": {},
   "source": [
    "We will now notice the type of aircraft used and the countries that were involved in different theatres of war."
   ]
  },
  {
   "cell_type": "code",
   "execution_count": null,
   "metadata": {
    "collapsed": false,
    "scrolled": false
   },
   "outputs": [],
   "source": [
    "subdata = data[data['Theater of Operations']=='ETO']\n",
    "subdata.groupby(['Country','Aircraft Series']).size()"
   ]
  },
  {
   "cell_type": "code",
   "execution_count": null,
   "metadata": {
    "collapsed": false
   },
   "outputs": [],
   "source": [
    "data[data['Country']=='NoCountry']"
   ]
  },
  {
   "cell_type": "code",
   "execution_count": null,
   "metadata": {
    "collapsed": true
   },
   "outputs": [],
   "source": []
  }
 ],
 "metadata": {
  "anaconda-cloud": {},
  "kernelspec": {
   "display_name": "Python [conda root]",
   "language": "python",
   "name": "conda-root-py"
  },
  "language_info": {
   "codemirror_mode": {
    "name": "ipython",
    "version": 2
   },
   "file_extension": ".py",
   "mimetype": "text/x-python",
   "name": "python",
   "nbconvert_exporter": "python",
   "pygments_lexer": "ipython2",
   "version": "2.7.12"
  }
 },
 "nbformat": 4,
 "nbformat_minor": 0
}
